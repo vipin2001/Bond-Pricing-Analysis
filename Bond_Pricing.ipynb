{
  "nbformat": 4,
  "nbformat_minor": 0,
  "metadata": {
    "colab": {
      "provenance": []
    },
    "kernelspec": {
      "name": "python3",
      "display_name": "Python 3"
    },
    "language_info": {
      "name": "python"
    }
  },
  "cells": [
    {
      "cell_type": "markdown",
      "source": [
        "# Imports"
      ],
      "metadata": {
        "id": "j4smDLQRwK6W"
      }
    },
    {
      "cell_type": "code",
      "source": [
        "import numpy as np"
      ],
      "metadata": {
        "id": "njcL9LPRwKaj"
      },
      "execution_count": null,
      "outputs": []
    },
    {
      "cell_type": "code",
      "source": [
        "\n",
        "def spot_rates(prices, par_value, maturities, CF):\n",
        "    \"\"\"\n",
        "    Calculate spot rates for different maturities using zero-coupon bond prices.\n",
        "\n",
        "    :param prices: A list of zero-coupon bond prices.\n",
        "    :param par_value: The face value (par value) of the bond.\n",
        "    :param maturities: A list of maturities for the bonds in years.\n",
        "    :CF: Compounding Frequency\n",
        "    :return: A list of spot rates for different maturities.\n",
        "    \"\"\"\n",
        "    spot_rates = []\n",
        "    for i in range(len(prices)):\n",
        "        pv = prices[i]\n",
        "        t = maturities[i]*CF\n",
        "        spot_rate = ((par_value[i] / pv) ** (1. / t) )- 1\n",
        "\n",
        "        spot_rates.append(spot_rate*CF)\n",
        "    return spot_rates\n",
        "\n",
        "def forward_rates(spot_rates, maturities, CF):\n",
        "    \"\"\"\n",
        "    Calculate forward rates from spot rates for different maturities.\n",
        "\n",
        "    :param spot_rates: A list of spot rates.\n",
        "    :param maturities: A list of maturities for the forward rates in years.\n",
        "    :CF: Compounding Frequency\n",
        "    :return: A list of forward rates.\n",
        "    \"\"\"\n",
        "    forward_rates = []\n",
        "    for i in range(len(spot_rates) - 1):\n",
        "        sr_t1 = spot_rates[i] / CF\n",
        "        sr_t2 = spot_rates[i + 1] / CF\n",
        "        t1 = maturities[i]*CF\n",
        "        t2 = maturities[i + 1]*CF\n",
        "        forward_rate = ((1 + sr_t2) ** t2 / (1 + sr_t1) ** t1) ** (1 / (t2 - t1)) - 1\n",
        "        forward_rates.append(forward_rate*CF)\n",
        "    return forward_rates\n",
        "\n",
        "# Example usage:\n",
        "bond_prices = [99, 98]  # Prices of zero-coupon bonds\n",
        "face_value = [100,100]  # Face value of the bonds\n",
        "bond_maturities = [0.5, 1]  # Maturities of the bonds in years\n",
        "comp_freq = 2\n",
        "spot_rates_result = spot_rates(bond_prices, face_value, bond_maturities,comp_freq)\n",
        "print(\"Spot Rates:\", spot_rates_result)\n",
        "\n",
        "forward_rates_result = forward_rates(spot_rates_result, bond_maturities,comp_freq)\n",
        "print(\"Forward Rates:\", forward_rates_result)\n",
        "\n",
        "\n",
        "# Example usage:\n",
        "bond_prices = [980, 950, 920, 900, 880]  # Prices of zero-coupon bonds\n",
        "face_value = [1000,1000,1000,1000,1000]  # Face value of the bonds\n",
        "bond_maturities = [1, 2, 3, 4, 5]  # Maturities of the bonds in years\n",
        "comp_freq = 1\n",
        "spot_rates_result = spot_rates(bond_prices, face_value, bond_maturities,comp_freq)\n",
        "print(\"Spot Rates:\", spot_rates_result)\n",
        "\n",
        "forward_rates_result = forward_rates(spot_rates_result, bond_maturities,comp_freq)\n",
        "print(\"Forward Rates:\", forward_rates_result)"
      ],
      "metadata": {
        "colab": {
          "base_uri": "https://localhost:8080/"
        },
        "id": "KZSds63u-PYP",
        "outputId": "74061e3d-0d07-483f-beaa-d4ac90a3cadf"
      },
      "execution_count": null,
      "outputs": [
        {
          "output_type": "stream",
          "name": "stdout",
          "text": [
            "1.0101010101010102\n",
            "1.0204081632653061\n",
            "Spot Rates: [0.020202020202020332, 0.020305089104421636]\n",
            "Forward Rates: [0.020408163265306367]\n",
            "1.0204081632653061\n",
            "1.0526315789473684\n",
            "1.0869565217391304\n",
            "1.1111111111111112\n",
            "1.1363636363636365\n",
            "Spot Rates: [0.020408163265306145, 0.025978352085153977, 0.02818372270192615, 0.026690096080340897, 0.02589630491023409]\n",
            "Forward Rates: [0.03157894736842071, 0.03260869565217428, 0.0222222222222217, 0.02272727272727315]\n"
          ]
        }
      ]
    },
    {
      "cell_type": "code",
      "source": [
        "# def present_value(cash_flows,spot_rates,maturities,CF):\n",
        "#   pv = 0\n",
        "#   for i in range(len(cash_flows)):\n",
        "#     sr = spot_rates[i]/CF\n",
        "#     t = maturities[i]*CF\n",
        "#     pv += (cash_flows[i])/(1+sr)**t\n",
        "\n",
        "#   return pv\n",
        "\n",
        "\n",
        "def present_value(cashflows, Maturities, spot_rates, CF):\n",
        "    \"\"\"\n",
        "    Calculate the present value of a list of cashflows using a given rate.\n",
        "\n",
        "    :param cashflows: A list of cashflows, including coupon payments and face value.\n",
        "    :param rate: The discount rate for calculating the present value.\n",
        "    :return: The present value of the cashflows.\n",
        "    \"\"\"\n",
        "    pv = 0\n",
        "    for i in range(len(cashflows)):\n",
        "        pv += cashflows[i] / (1 + spot_rates[Maturities[i]*CF]) ** (Maturities[i]*CF)\n",
        "    return pv\n",
        "\n",
        "def spot_rates_nz(prices, cash_flows, maturities, CF):\n",
        "  spot_rates = []\n",
        "  spot_rates.append((cash_flows[0][0]/prices[0] - 1) * CF)\n",
        "\n",
        "  for i in range(1,len(prices)):\n",
        "    print(cash_flows[i])\n",
        "    a_pv = present_value(cash_flows[i][:i],spot_rates,maturities[i],CF)\n",
        "    pv = prices[i]  - a_pv\n",
        "    print(pv)\n",
        "    t = maturities[i][i]*CF\n",
        "    print(cash_flows[i][i])\n",
        "    spot_rates.append(((cash_flows[i][i]/pv)** (1/t)- 1) * CF)\n",
        "\n",
        "  return spot_rates\n",
        "\n",
        "\n",
        "def spot_rates_bond(PV, CR, FV, CF, N):\n",
        "  cash_flows = []\n",
        "  maturities = []\n",
        "\n",
        "  for i in range(len(PV)):\n",
        "    cash_flow = []\n",
        "    maturitie = []\n",
        "    for j in range(int(CF*N[i])-1):\n",
        "      cash_flow.append(FV[i]*CR[i]/CF)\n",
        "      maturitie.append((j+1)/CF)\n",
        "    cash_flow.append(FV[i]*(1+(CR[i]/CF)))\n",
        "    cash_flows.append(cash_flow)\n",
        "    maturitie.append(N[i])\n",
        "    maturities.append(maturitie)\n",
        "\n",
        "  spot_rates = spot_rates_nz(PV,cash_flows,maturities,CF)\n",
        "\n",
        "  return spot_rates\n",
        "\n",
        "PV = [99,98]\n",
        "CR = [0.06,0.06]\n",
        "FV = [100,100]\n",
        "CF = 2\n",
        "N = [0.5,1]\n",
        "\n",
        "spot_rates = spot_rates_bond(PV,CR,FV,CF,N)\n",
        "spot_rates"
      ],
      "metadata": {
        "colab": {
          "base_uri": "https://localhost:8080/"
        },
        "id": "k8X6-sF5_Ryp",
        "outputId": "27083524-c084-4adc-f72d-c293e1601cf5"
      },
      "execution_count": null,
      "outputs": [
        {
          "output_type": "stream",
          "name": "stdout",
          "text": [
            "[3.0, 103.0]\n",
            "95.11650485436893\n",
            "103.0\n"
          ]
        },
        {
          "output_type": "execute_result",
          "data": {
            "text/plain": [
              "[0.08080808080808088, 0.08123282220479044]"
            ]
          },
          "metadata": {},
          "execution_count": 21
        }
      ]
    },
    {
      "cell_type": "code",
      "source": [
        "\n",
        "\n",
        "def calculate_irr(cashflows, spot_rates, Maturities, tolerance=1e-6, max_iterations=1000):\n",
        "    \"\"\"\n",
        "    Calculate the Internal Rate of Return (IRR) using cashflows and spot rates.\n",
        "\n",
        "    :param cashflows: A list of cashflows.\n",
        "    :param spot_rates: A list of spot rates corresponding to the cashflow periods.\n",
        "    :param tolerance: The desired precision for the IRR calculation.\n",
        "    :param max_iterations: The maximum number of iterations for the IRR calculation.\n",
        "    :return: The calculated IRR.\n",
        "    \"\"\"\n",
        "    guess = 0.1  # Initial guess for IRR\n",
        "    for _ in range(max_iterations):\n",
        "        present_value = present_value(cashflows, Maturities, SR, CF)\n",
        "        deriv_present_value = calculate_present_value([c * (i + 1) for i, c in enumerate(cashflows)], spot_rates)\n",
        "        new_guess = guess - present_value / deriv_present_value\n",
        "        if abs(new_guess - guess) < tolerance:\n",
        "            return new_guess\n",
        "        guess = new_guess\n",
        "    raise ValueError(\"IRR calculation did not converge within the given number of iterations.\")\n",
        "\n",
        "\n",
        "def macaulay_duration(cashflows, Maturitites, SR, CF):\n",
        "    \"\"\"\n",
        "    Calculate the Macaulay Duration of a bond using the given cashflows and yield.\n",
        "\n",
        "    :param cashflows: A list of cashflows, including coupon payments and face value.\n",
        "    :param rate: The yield of the bond.\n",
        "    :return: The Macaulay Duration of the bond.\n",
        "    \"\"\"\n",
        "    pv_total = present_value(cashflows, Maturitites, SR, CF)\n",
        "    macaulay_duration = 0\n",
        "    for i in range(len(cashflows)):\n",
        "      macaulay_duration += (cashflows[i]/ (1 + SR[Maturities[i]*CF]) ** (Maturities[i]*CF)) * Maturities[i]\n",
        "\n",
        "    return macaulay_duration/pv_total\n",
        "\n",
        "def modified_duration(cashflows, Maturities, SR, CF):\n",
        "    \"\"\"\n",
        "    Calculate the Modified Duration of a bond using the given cashflows and yield.\n",
        "\n",
        "    :param cashflows: A list of cashflows, including coupon payments and face value.\n",
        "    :param rate: The yield of the bond.\n",
        "    :return: The Modified Duration of the bond.\n",
        "    \"\"\"\n",
        "    macaulay_dur = macaulay_duration(cashflows, Maturities, SR, CF)\n",
        "    IRR = calculate_irr(cashflows, spot_rates, Maturities)\n",
        "    modified_duration = macaulay_dur / (1 + IRR/CF)\n",
        "    return modified_duration\n",
        "\n",
        "def effective_duration(cashflows, Maturities, SR, CF, delta_rate=0.01):\n",
        "    \"\"\"\n",
        "    Calculate the Effective Duration of a bond using the given cashflows and yield, with a small change in yield.\n",
        "\n",
        "    :param cashflows: A list of cashflows, including coupon payments and face value.\n",
        "    :param rate: The yield of the bond.\n",
        "    :param delta_rate: A small change in yield used to calculate the effective duration.\n",
        "    :return: The Effective Duration of the bond.\n",
        "    \"\"\"\n",
        "    pv = present_value(cashflows, Maturities, SR, CF)\n",
        "\n",
        "    IRR = calculate_irr(cashflows, SR, Maturities)\n",
        "    pv_minus = present_value(cashflows, Maturities, [IRR-delta_rate]*len(SR))\n",
        "    pv_plus = present_value(cashflows, Maturities, [IRR+delta_rate]*len(SR))\n",
        "    effective_duration = (pv_minus - pv_plus) / (2 * delta_rate * pv)\n",
        "    return effective_duration\n",
        "\n",
        "# Example usage:\n",
        "bond_cashflows = [50, 50, 50, 50, 50, 1050]  # Cashflows including coupon payments and face value\n",
        "bond_yield_rate = 0.05  # Yield to maturity (YTM) of the bond\n",
        "bond_price = 1050  # Price of the bond\n",
        "\n",
        "macaulay_duration_result = macaulay_duration(bond_cashflows, bond_yield_rate)\n",
        "print(\"Macaulay Duration:\", macaulay_duration_result)\n",
        "\n",
        "modified_duration_result = modified_duration(bond_cashflows, bond_yield_rate)\n",
        "print(\"Modified Duration:\", modified_duration_result)\n",
        "\n",
        "effective_duration_result = effective_duration(bond_cashflows, bond_yield_rate)\n",
        "print(\"Effective Duration:\", effective_duration_result)\n"
      ],
      "metadata": {
        "id": "1e4ojJ7-GduM",
        "colab": {
          "base_uri": "https://localhost:8080/",
          "height": 242
        },
        "outputId": "37b35dde-d988-436e-9308-2d53f61fa905"
      },
      "execution_count": null,
      "outputs": [
        {
          "output_type": "error",
          "ename": "TypeError",
          "evalue": "ignored",
          "traceback": [
            "\u001b[0;31m---------------------------------------------------------------------------\u001b[0m",
            "\u001b[0;31mTypeError\u001b[0m                                 Traceback (most recent call last)",
            "\u001b[0;32m<ipython-input-22-c4d53966ef99>\u001b[0m in \u001b[0;36m<cell line: 72>\u001b[0;34m()\u001b[0m\n\u001b[1;32m     70\u001b[0m \u001b[0mbond_price\u001b[0m \u001b[0;34m=\u001b[0m \u001b[0;36m1050\u001b[0m  \u001b[0;31m# Price of the bond\u001b[0m\u001b[0;34m\u001b[0m\u001b[0;34m\u001b[0m\u001b[0m\n\u001b[1;32m     71\u001b[0m \u001b[0;34m\u001b[0m\u001b[0m\n\u001b[0;32m---> 72\u001b[0;31m \u001b[0mmacaulay_duration_result\u001b[0m \u001b[0;34m=\u001b[0m \u001b[0mmacaulay_duration\u001b[0m\u001b[0;34m(\u001b[0m\u001b[0mbond_cashflows\u001b[0m\u001b[0;34m,\u001b[0m \u001b[0mbond_yield_rate\u001b[0m\u001b[0;34m)\u001b[0m\u001b[0;34m\u001b[0m\u001b[0;34m\u001b[0m\u001b[0m\n\u001b[0m\u001b[1;32m     73\u001b[0m \u001b[0mprint\u001b[0m\u001b[0;34m(\u001b[0m\u001b[0;34m\"Macaulay Duration:\"\u001b[0m\u001b[0;34m,\u001b[0m \u001b[0mmacaulay_duration_result\u001b[0m\u001b[0;34m)\u001b[0m\u001b[0;34m\u001b[0m\u001b[0;34m\u001b[0m\u001b[0m\n\u001b[1;32m     74\u001b[0m \u001b[0;34m\u001b[0m\u001b[0m\n",
            "\u001b[0;31mTypeError\u001b[0m: macaulay_duration() missing 2 required positional arguments: 'SR' and 'CF'"
          ]
        }
      ]
    },
    {
      "cell_type": "code",
      "source": [
        "def compute_conversion_factor(coupon_rate, yield_rate, time_to_maturity, coupon_frequency):\n",
        "    \"\"\"\n",
        "    Compute the Conversion Factor for a Treasury bond futures contract.\n",
        "\n",
        "    :param coupon_rate: The annual coupon rate of the underlying bond.\n",
        "    :param yield_rate: The yield of the underlying bond as a decimal (e.g., 0.05 for 5% yield).\n",
        "    :param time_to_maturity: Time to maturity of the bond in years until the futures delivery date.\n",
        "    :param coupon_frequency: The number of coupon payments per year (e.g., 2 for semi-annual coupons).\n",
        "    :return: The Conversion Factor.\n",
        "    \"\"\"\n",
        "    n = coupon_frequency * time_to_maturity\n",
        "    coupon_payment = (coupon_rate / coupon_frequency) * 100  # Coupon payment per period based on $100 face value\n",
        "    discount_factor = 1 / (1 + yield_rate / coupon_frequency) ** n\n",
        "\n",
        "    present_value_cash_flows = coupon_payment * (1 - discount_factor) / (yield_rate / coupon_frequency)\n",
        "    conversion_factor = present_value_cash_flows / (100 * discount_factor)\n",
        "    return conversion_factor\n",
        "\n",
        "# Example usage:\n",
        "coupon_rate = 0.05  # Annual coupon rate (e.g., 5%)\n",
        "yield_rate = 0.04  # Yield of the underlying bond (e.g., 4% yield)\n",
        "time_to_maturity = 3  # Time to maturity in years until the futures delivery date\n",
        "coupon_frequency = 2  # Number of coupon payments per year (e.g., 2 for semi-annual coupons)\n",
        "\n",
        "conversion_factor = compute_conversion_factor(coupon_rate, yield_rate, time_to_maturity, coupon_frequency)\n",
        "print(\"Conversion Factor:\", conversion_factor)\n"
      ],
      "metadata": {
        "id": "ACPawVetKI-u"
      },
      "execution_count": null,
      "outputs": []
    },
    {
      "cell_type": "code",
      "source": [
        "def find_cheapest_to_deliver_bond(futures_price, conversion_factors, cash_prices):\n",
        "    \"\"\"\n",
        "    Find the Cheapest to Deliver (CTD) bond from a basket of eligible bonds.\n",
        "\n",
        "    :param futures_price: The quoted price of the futures contract (per $100 face value).\n",
        "    :param conversion_factors: A list of Conversion Factors for the eligible bonds.\n",
        "    :param cash_prices: A list of cash prices for the eligible bonds.\n",
        "    :return: The index of the CTD bond in the list of eligible bonds.\n",
        "    \"\"\"\n",
        "    cheapest_delivery_cost = float('inf')\n",
        "    ctd_bond_index = -1\n",
        "\n",
        "    for i, conversion_factor in enumerate(conversion_factors):\n",
        "        delivery_cost = futures_price * conversion_factor / cash_prices[i]\n",
        "        if delivery_cost < cheapest_delivery_cost:\n",
        "            cheapest_delivery_cost = delivery_cost\n",
        "            ctd_bond_index = i\n",
        "\n",
        "    return ctd_bond_index\n",
        "\n",
        "# Example usage:\n",
        "futures_price = 101.50  # Quoted price of the futures contract per $100 face value\n",
        "conversion_factors = [1.05, 1.06, 1.03]  # Conversion Factors for eligible bonds\n",
        "cash_prices = [1000, 1020, 980]  # Cash prices for eligible bonds\n",
        "\n",
        "ctd_bond_index = find_cheapest_to_deliver_bond(futures_price, conversion_factors, cash_prices)\n",
        "print(\"Cheapest to Deliver Bond Index:\", ctd_bond_index)\n"
      ],
      "metadata": {
        "id": "ABWsIITcKJ_g"
      },
      "execution_count": null,
      "outputs": []
    }
  ]
}